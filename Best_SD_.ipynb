{
  "nbformat": 4,
  "nbformat_minor": 0,
  "metadata": {
    "colab": {
      "provenance": [],
      "mount_file_id": "1TvfldPDU8kmWFgXCITzDVD-2NeGX9uPx",
      "authorship_tag": "ABX9TyNv3j0D1CBWFvqIluC5fQWF",
      "include_colab_link": true
    },
    "kernelspec": {
      "name": "python3",
      "display_name": "Python 3"
    },
    "language_info": {
      "name": "python"
    },
    "accelerator": "GPU",
    "gpuClass": "standard"
  },
  "cells": [
    {
      "cell_type": "markdown",
      "metadata": {
        "id": "view-in-github",
        "colab_type": "text"
      },
      "source": [
        "<a href=\"https://colab.research.google.com/github/adnaniz/stable-diffusion-webui-moded/blob/main/Best_SD_.ipynb\" target=\"_parent\"><img src=\"https://colab.research.google.com/assets/colab-badge.svg\" alt=\"Open In Colab\"/></a>"
      ]
    },
    {
      "cell_type": "code",
      "execution_count": null,
      "metadata": {
        "id": "PH-Tg3R7IqR3"
      },
      "outputs": [],
      "source": []
    },
    {
      "cell_type": "code",
      "execution_count": null,
      "metadata": {
        "id": "SaAJk33ppFw1",
        "colab": {
          "base_uri": "https://localhost:8080/"
        },
        "outputId": "e0294e9c-491c-4d8f-c823-1d2bd40a38c1"
      },
      "outputs": [
        {
          "metadata": {
            "tags": null
          },
          "name": "stdout",
          "output_type": "stream",
          "text": [
            "\u001b[K     |████████████████████████████████| 102.9 MB 45 kB/s \n",
            "\u001b[?25hCloning into 'stable-diffusion-webui'...\n",
            "remote: Enumerating objects: 11685, done.\u001b[K\n",
            "remote: Total 11685 (delta 0), reused 0 (delta 0), pack-reused 11685\u001b[K\n",
            "Receiving objects: 100% (11685/11685), 24.00 MiB | 41.02 MiB/s, done.\n",
            "Resolving deltas: 100% (8166/8166), done.\n",
            "fatal: destination path '/content/stable-diffusion-webui/extensions/deforum-for-automatic1111-webui' already exists and is not an empty directory.\n",
            "fatal: destination path '/content/stable-diffusion-webui/extensions/stable-diffusion-webui-images-browser' already exists and is not an empty directory.\n",
            "fatal: destination path '/content/stable-diffusion-webui/extensions/stable-diffusion-webui-huggingface' already exists and is not an empty directory.\n",
            "/content/stable-diffusion-webui\n",
            "--2022-12-18 19:10:50--  https://huggingface.co/hakurei/waifu-diffusion-v1-3/resolve/main/wd-v1-3-float32.ckpt\n",
            "Resolving huggingface.co (huggingface.co)... 34.200.6.138, 3.226.175.122, 2600:1f18:147f:e850:4850:4c8:a7ca:1a6b, ...\n",
            "Connecting to huggingface.co (huggingface.co)|34.200.6.138|:443... connected.\n",
            "HTTP request sent, awaiting response... 302 Found\n",
            "Location: https://cdn-lfs.huggingface.co/repos/83/8e/838e890bec8fddfdbc93ceb156ced8b290b4de1f1116c58b34d3af4c9f4fcea7/9dade826203c7ee369881b5dc20d34298fa644c1f137568e09fbc4b9a0d3e817?response-content-disposition=attachment%3B%20filename%3D%22wd-v1-3-float32.ckpt%22&Expires=1671649851&Policy=eyJTdGF0ZW1lbnQiOlt7IlJlc291cmNlIjoiaHR0cHM6Ly9jZG4tbGZzLmh1Z2dpbmdmYWNlLmNvL3JlcG9zLzgzLzhlLzgzOGU4OTBiZWM4ZmRkZmRiYzkzY2ViMTU2Y2VkOGIyOTBiNGRlMWYxMTE2YzU4YjM0ZDNhZjRjOWY0ZmNlYTcvOWRhZGU4MjYyMDNjN2VlMzY5ODgxYjVkYzIwZDM0Mjk4ZmE2NDRjMWYxMzc1NjhlMDlmYmM0YjlhMGQzZTgxNz9yZXNwb25zZS1jb250ZW50LWRpc3Bvc2l0aW9uPWF0dGFjaG1lbnQlM0IlMjBmaWxlbmFtZSUzRCUyMndkLXYxLTMtZmxvYXQzMi5ja3B0JTIyIiwiQ29uZGl0aW9uIjp7IkRhdGVMZXNzVGhhbiI6eyJBV1M6RXBvY2hUaW1lIjoxNjcxNjQ5ODUxfX19XX0_&Signature=lo6hRPGFWXhPZaz46t7wudCquD4BZASbnfzFfA77yidSBN5vXa0zM2lyCizCyUUtS7oDSYRHJfHGzmcZDCEz~d0i5-tvaXsj8r12dfd6DmO0ViCc9cr6ongOuFcWjmMXi2veN-j0vILBY0NvpH1M9cj7wf76liQtnHZn7jNytIZkK54bvLBAVJsnA9XEstWFJPmc7tqZLtRbMDpGugtALQu7BYbxx4sCJbgxZPWxiLHUr1YR0kzwtKR0AE1bV3XIXPsoTx-i~0-eDA8rpUKsq~mRH1SCB7dFiMekD2YD3z~Gtw3Q-UtaXQTtBpRk-gjSxjNNSCijOduCGABwEnTW9w__&Key-Pair-Id=KVTP0A1DKRTAX [following]\n",
            "--2022-12-18 19:10:50--  https://cdn-lfs.huggingface.co/repos/83/8e/838e890bec8fddfdbc93ceb156ced8b290b4de1f1116c58b34d3af4c9f4fcea7/9dade826203c7ee369881b5dc20d34298fa644c1f137568e09fbc4b9a0d3e817?response-content-disposition=attachment%3B%20filename%3D%22wd-v1-3-float32.ckpt%22&Expires=1671649851&Policy=eyJTdGF0ZW1lbnQiOlt7IlJlc291cmNlIjoiaHR0cHM6Ly9jZG4tbGZzLmh1Z2dpbmdmYWNlLmNvL3JlcG9zLzgzLzhlLzgzOGU4OTBiZWM4ZmRkZmRiYzkzY2ViMTU2Y2VkOGIyOTBiNGRlMWYxMTE2YzU4YjM0ZDNhZjRjOWY0ZmNlYTcvOWRhZGU4MjYyMDNjN2VlMzY5ODgxYjVkYzIwZDM0Mjk4ZmE2NDRjMWYxMzc1NjhlMDlmYmM0YjlhMGQzZTgxNz9yZXNwb25zZS1jb250ZW50LWRpc3Bvc2l0aW9uPWF0dGFjaG1lbnQlM0IlMjBmaWxlbmFtZSUzRCUyMndkLXYxLTMtZmxvYXQzMi5ja3B0JTIyIiwiQ29uZGl0aW9uIjp7IkRhdGVMZXNzVGhhbiI6eyJBV1M6RXBvY2hUaW1lIjoxNjcxNjQ5ODUxfX19XX0_&Signature=lo6hRPGFWXhPZaz46t7wudCquD4BZASbnfzFfA77yidSBN5vXa0zM2lyCizCyUUtS7oDSYRHJfHGzmcZDCEz~d0i5-tvaXsj8r12dfd6DmO0ViCc9cr6ongOuFcWjmMXi2veN-j0vILBY0NvpH1M9cj7wf76liQtnHZn7jNytIZkK54bvLBAVJsnA9XEstWFJPmc7tqZLtRbMDpGugtALQu7BYbxx4sCJbgxZPWxiLHUr1YR0kzwtKR0AE1bV3XIXPsoTx-i~0-eDA8rpUKsq~mRH1SCB7dFiMekD2YD3z~Gtw3Q-UtaXQTtBpRk-gjSxjNNSCijOduCGABwEnTW9w__&Key-Pair-Id=KVTP0A1DKRTAX\n",
            "Resolving cdn-lfs.huggingface.co (cdn-lfs.huggingface.co)... 108.156.83.123, 108.156.83.76, 108.156.83.35, ...\n",
            "Connecting to cdn-lfs.huggingface.co (cdn-lfs.huggingface.co)|108.156.83.123|:443... connected.\n",
            "HTTP request sent, awaiting response... 200 OK\n",
            "Length: 4265384157 (4.0G) [binary/octet-stream]\n",
            "Saving to: ‘/content/stable-diffusion-webui/models/Stable-diffusion/wd-v1-3-float32.ckpt’\n",
            "\n",
            "/content/stable-dif 100%[===================>]   3.97G   104MB/s    in 30s     \n",
            "\n",
            "2022-12-18 19:11:21 (134 MB/s) - ‘/content/stable-diffusion-webui/models/Stable-diffusion/wd-v1-3-float32.ckpt’ saved [4265384157/4265384157]\n",
            "\n",
            "--2022-12-18 19:11:21--  https://huggingface.co/hakurei/waifu-diffusion-v1-4/resolve/main/vae/kl-f8-anime2.ckpt\n",
            "Resolving huggingface.co (huggingface.co)... 34.200.6.138, 3.226.175.122, 2600:1f18:147f:e800:634d:4636:2b8b:7f7, ...\n",
            "Connecting to huggingface.co (huggingface.co)|34.200.6.138|:443... connected.\n",
            "HTTP request sent, awaiting response... 302 Found\n",
            "Location: https://cdn-lfs.huggingface.co/repos/79/67/7967022b375f7b6dc4e08fbd7a59bec0715529069c44ed775306c857b734e0af/df3c506e51b7ee1d7b5a6a2bb7142d47d488743c96aa778afb0f53a2cdc2d38d?response-content-disposition=attachment%3B%20filename%3D%22kl-f8-anime2.ckpt%22&Expires=1671643715&Policy=eyJTdGF0ZW1lbnQiOlt7IlJlc291cmNlIjoiaHR0cHM6Ly9jZG4tbGZzLmh1Z2dpbmdmYWNlLmNvL3JlcG9zLzc5LzY3Lzc5NjcwMjJiMzc1ZjdiNmRjNGUwOGZiZDdhNTliZWMwNzE1NTI5MDY5YzQ0ZWQ3NzUzMDZjODU3YjczNGUwYWYvZGYzYzUwNmU1MWI3ZWUxZDdiNWE2YTJiYjcxNDJkNDdkNDg4NzQzYzk2YWE3NzhhZmIwZjUzYTJjZGMyZDM4ZD9yZXNwb25zZS1jb250ZW50LWRpc3Bvc2l0aW9uPWF0dGFjaG1lbnQlM0IlMjBmaWxlbmFtZSUzRCUyMmtsLWY4LWFuaW1lMi5ja3B0JTIyIiwiQ29uZGl0aW9uIjp7IkRhdGVMZXNzVGhhbiI6eyJBV1M6RXBvY2hUaW1lIjoxNjcxNjQzNzE1fX19XX0_&Signature=ne-zjUpKxEPV-paTCSjOUc6BhMoOe4GpmCbY3HQ2aFNk-HxNsp8YIUL8fe5~cVULS27SzKD9xJNg2n0~~abnCcpbOZiTLeS52xagxRj1nK64d1gA6Yh0DsuLa7IYQEBFYoTFtWCslnd6CjXJHguc~Tc9b-lwYLIRTAekXn6XTmmtiV9H4MugTGbJXGH~jGI0j3lVS3eyH9sCzL7zda3tSxYEGkqxxzjj-XYgZ0uVbIRc9-r-FYMBoTVSKiSVGpn299lIQ2co7Jt-PIVxVG-T~mXIryItL8ZrCvaROFNNob2hjo2xySwWGj8Voz8nNzxetaIaYNpqh-TAiyGgGI4YSg__&Key-Pair-Id=KVTP0A1DKRTAX [following]\n",
            "--2022-12-18 19:11:21--  https://cdn-lfs.huggingface.co/repos/79/67/7967022b375f7b6dc4e08fbd7a59bec0715529069c44ed775306c857b734e0af/df3c506e51b7ee1d7b5a6a2bb7142d47d488743c96aa778afb0f53a2cdc2d38d?response-content-disposition=attachment%3B%20filename%3D%22kl-f8-anime2.ckpt%22&Expires=1671643715&Policy=eyJTdGF0ZW1lbnQiOlt7IlJlc291cmNlIjoiaHR0cHM6Ly9jZG4tbGZzLmh1Z2dpbmdmYWNlLmNvL3JlcG9zLzc5LzY3Lzc5NjcwMjJiMzc1ZjdiNmRjNGUwOGZiZDdhNTliZWMwNzE1NTI5MDY5YzQ0ZWQ3NzUzMDZjODU3YjczNGUwYWYvZGYzYzUwNmU1MWI3ZWUxZDdiNWE2YTJiYjcxNDJkNDdkNDg4NzQzYzk2YWE3NzhhZmIwZjUzYTJjZGMyZDM4ZD9yZXNwb25zZS1jb250ZW50LWRpc3Bvc2l0aW9uPWF0dGFjaG1lbnQlM0IlMjBmaWxlbmFtZSUzRCUyMmtsLWY4LWFuaW1lMi5ja3B0JTIyIiwiQ29uZGl0aW9uIjp7IkRhdGVMZXNzVGhhbiI6eyJBV1M6RXBvY2hUaW1lIjoxNjcxNjQzNzE1fX19XX0_&Signature=ne-zjUpKxEPV-paTCSjOUc6BhMoOe4GpmCbY3HQ2aFNk-HxNsp8YIUL8fe5~cVULS27SzKD9xJNg2n0~~abnCcpbOZiTLeS52xagxRj1nK64d1gA6Yh0DsuLa7IYQEBFYoTFtWCslnd6CjXJHguc~Tc9b-lwYLIRTAekXn6XTmmtiV9H4MugTGbJXGH~jGI0j3lVS3eyH9sCzL7zda3tSxYEGkqxxzjj-XYgZ0uVbIRc9-r-FYMBoTVSKiSVGpn299lIQ2co7Jt-PIVxVG-T~mXIryItL8ZrCvaROFNNob2hjo2xySwWGj8Voz8nNzxetaIaYNpqh-TAiyGgGI4YSg__&Key-Pair-Id=KVTP0A1DKRTAX\n",
            "Resolving cdn-lfs.huggingface.co (cdn-lfs.huggingface.co)... 108.157.162.58, 108.157.162.99, 108.157.162.27, ...\n",
            "Connecting to cdn-lfs.huggingface.co (cdn-lfs.huggingface.co)|108.157.162.58|:443... connected.\n",
            "HTTP request sent, awaiting response... 200 OK\n",
            "Length: 404662241 (386M) [application/zip]\n",
            "Saving to: ‘/content/stable-diffusion-webui/models/Stable-diffusion/wd-v1-3-float32.vae.pt’\n",
            "\n",
            "/content/stable-dif 100%[===================>] 385.92M   136MB/s    in 2.8s    \n",
            "\n",
            "2022-12-18 19:11:24 (136 MB/s) - ‘/content/stable-diffusion-webui/models/Stable-diffusion/wd-v1-3-float32.vae.pt’ saved [404662241/404662241]\n",
            "\n",
            "--2022-12-18 19:11:25--  https://huggingface.co/CompVis/stable-diffusion-v-1-4-original/resolve/main/sd-v1-4.ckpt\n",
            "Resolving huggingface.co (huggingface.co)... 34.200.6.138, 3.226.175.122, 2600:1f18:147f:e800:634d:4636:2b8b:7f7, ...\n",
            "Connecting to huggingface.co (huggingface.co)|34.200.6.138|:443... connected.\n",
            "HTTP request sent, awaiting response... 302 Found\n",
            "Location: https://cdn-lfs.huggingface.co/repos/4c/37/4c372b4ebb57bbd02e68413d4951aa326d4b3cfb6e62db989e529c6d4b26fb21/fe4efff1e174c627256e44ec2991ba279b3816e364b49f9be2abc0b3ff3f8556?response-content-disposition=attachment%3B%20filename%3D%22sd-v1-4.ckpt%22&Expires=1671644593&Policy=eyJTdGF0ZW1lbnQiOlt7IlJlc291cmNlIjoiaHR0cHM6Ly9jZG4tbGZzLmh1Z2dpbmdmYWNlLmNvL3JlcG9zLzRjLzM3LzRjMzcyYjRlYmI1N2JiZDAyZTY4NDEzZDQ5NTFhYTMyNmQ0YjNjZmI2ZTYyZGI5ODllNTI5YzZkNGIyNmZiMjEvZmU0ZWZmZjFlMTc0YzYyNzI1NmU0NGVjMjk5MWJhMjc5YjM4MTZlMzY0YjQ5ZjliZTJhYmMwYjNmZjNmODU1Nj9yZXNwb25zZS1jb250ZW50LWRpc3Bvc2l0aW9uPWF0dGFjaG1lbnQlM0IlMjBmaWxlbmFtZSUzRCUyMnNkLXYxLTQuY2twdCUyMiIsIkNvbmRpdGlvbiI6eyJEYXRlTGVzc1RoYW4iOnsiQVdTOkVwb2NoVGltZSI6MTY3MTY0NDU5M319fV19&Signature=SBvLHM4ULOlWrKrj1gFu-I4jmZHNBJyP0ef-C1mrBhJbVVU5vSkT95BjUnUYoPF17zajme5YzMqv3koRNLHbpEFj-bJ~ZGw7L49OLtsoKAc6BjtGjzw6DGdv1Tro1grxCDZWJUGVbMhEgRiBne7V-0shtmfXsOg-rU5jka0-~f3qiEl7XPetwfUc2UmTUodDh-wnqQ-Ox6tx2HxfkGKouWNwMufEmRE64AXSDKcEdoM1mRDoaSNtLLtv7RWxftOPylO4FEs7E7~4G5KJUJIiKV7fVrrOOqvPchTg7AViTCgNfhWp-P2IXF7~qNJ6qYWIZOCSGTX16Vs6M1q94TwEDQ__&Key-Pair-Id=KVTP0A1DKRTAX [following]\n",
            "--2022-12-18 19:11:25--  https://cdn-lfs.huggingface.co/repos/4c/37/4c372b4ebb57bbd02e68413d4951aa326d4b3cfb6e62db989e529c6d4b26fb21/fe4efff1e174c627256e44ec2991ba279b3816e364b49f9be2abc0b3ff3f8556?response-content-disposition=attachment%3B%20filename%3D%22sd-v1-4.ckpt%22&Expires=1671644593&Policy=eyJTdGF0ZW1lbnQiOlt7IlJlc291cmNlIjoiaHR0cHM6Ly9jZG4tbGZzLmh1Z2dpbmdmYWNlLmNvL3JlcG9zLzRjLzM3LzRjMzcyYjRlYmI1N2JiZDAyZTY4NDEzZDQ5NTFhYTMyNmQ0YjNjZmI2ZTYyZGI5ODllNTI5YzZkNGIyNmZiMjEvZmU0ZWZmZjFlMTc0YzYyNzI1NmU0NGVjMjk5MWJhMjc5YjM4MTZlMzY0YjQ5ZjliZTJhYmMwYjNmZjNmODU1Nj9yZXNwb25zZS1jb250ZW50LWRpc3Bvc2l0aW9uPWF0dGFjaG1lbnQlM0IlMjBmaWxlbmFtZSUzRCUyMnNkLXYxLTQuY2twdCUyMiIsIkNvbmRpdGlvbiI6eyJEYXRlTGVzc1RoYW4iOnsiQVdTOkVwb2NoVGltZSI6MTY3MTY0NDU5M319fV19&Signature=SBvLHM4ULOlWrKrj1gFu-I4jmZHNBJyP0ef-C1mrBhJbVVU5vSkT95BjUnUYoPF17zajme5YzMqv3koRNLHbpEFj-bJ~ZGw7L49OLtsoKAc6BjtGjzw6DGdv1Tro1grxCDZWJUGVbMhEgRiBne7V-0shtmfXsOg-rU5jka0-~f3qiEl7XPetwfUc2UmTUodDh-wnqQ-Ox6tx2HxfkGKouWNwMufEmRE64AXSDKcEdoM1mRDoaSNtLLtv7RWxftOPylO4FEs7E7~4G5KJUJIiKV7fVrrOOqvPchTg7AViTCgNfhWp-P2IXF7~qNJ6qYWIZOCSGTX16Vs6M1q94TwEDQ__&Key-Pair-Id=KVTP0A1DKRTAX\n",
            "Resolving cdn-lfs.huggingface.co (cdn-lfs.huggingface.co)... 108.157.162.58, 108.157.162.99, 108.157.162.27, ...\n",
            "Connecting to cdn-lfs.huggingface.co (cdn-lfs.huggingface.co)|108.157.162.58|:443... connected.\n",
            "HTTP request sent, awaiting response... 200 OK\n",
            "Length: 4265380512 (4.0G) [binary/octet-stream]\n",
            "Saving to: ‘/content/stable-diffusion-webui/models/Stable-diffusion/sd-v1-4.ckpt’\n",
            "\n",
            "/content/stable-dif 100%[===================>]   3.97G   142MB/s    in 31s     \n",
            "\n",
            "2022-12-18 19:11:56 (130 MB/s) - ‘/content/stable-diffusion-webui/models/Stable-diffusion/sd-v1-4.ckpt’ saved [4265380512/4265380512]\n",
            "\n",
            "Python 3.8.16 (default, Dec  7 2022, 01:12:13) \n",
            "[GCC 7.5.0]\n",
            "Commit hash: 8504db51704d238cc7616f6bf59eb049d3eb101d\n",
            "Installing requirements for Web UI\n",
            "Launching Web UI with arguments: --share --force-enable-xformers\n",
            "LatentDiffusion: Running in eps-prediction mode\n",
            "DiffusionWrapper has 859.52 M params.\n",
            "Loading weights [4470c325] from /content/stable-diffusion-webui/models/Stable-diffusion/wd-v1-3-float32.ckpt\n",
            "Using VAE found similar to selected model: /content/stable-diffusion-webui/models/Stable-diffusion/wd-v1-3-float32.vae.pt\n",
            "Loading VAE weights from: /content/stable-diffusion-webui/models/Stable-diffusion/wd-v1-3-float32.vae.pt\n",
            "Applying xformers cross attention optimization.\n",
            "Model loaded.\n",
            "Loaded a total of 0 textual inversion embeddings.\n",
            "Embeddings: \n",
            "Running on local URL:  http://127.0.0.1:7860\n",
            "Running on public URL: https://3a3ce148e8455810.gradio.app\n",
            "\n",
            "This share link expires in 72 hours. For free permanent hosting and GPU upgrades (NEW!), check out Spaces: https://huggingface.co/spaces\n",
            "Downloading: \"https://storage.googleapis.com/sfr-vision-language-research/BLIP/models/model_base_caption_capfilt_large.pth\" to /content/stable-diffusion-webui/models/BLIP/model_base_caption_capfilt_large.pth\n",
            "\n",
            "100% 855M/855M [00:05<00:00, 177MB/s]\n",
            "Downloading: 100% 226k/226k [00:00<00:00, 3.09MB/s]\n",
            "Downloading: 100% 28.0/28.0 [00:00<00:00, 34.9kB/s]\n",
            "Downloading: 100% 570/570 [00:00<00:00, 847kB/s]\n",
            "load checkpoint from /content/stable-diffusion-webui/models/BLIP/model_base_caption_capfilt_large.pth\n",
            "100%|███████████████████████████████████████| 890M/890M [00:25<00:00, 36.8MiB/s]\n",
            "  0% 0/16 [00:00<?, ?it/s]\n",
            "  6% 1/16 [00:03<00:46,  3.11s/it]\n",
            " 19% 3/16 [00:03<00:10,  1.23it/s]\n",
            " 25% 4/16 [00:03<00:06,  1.81it/s]\n",
            " 31% 5/16 [00:03<00:04,  2.44it/s]\n",
            " 38% 6/16 [00:03<00:03,  3.09it/s]\n",
            " 44% 7/16 [00:04<00:02,  3.72it/s]\n",
            " 50% 8/16 [00:04<00:01,  4.31it/s]\n",
            " 56% 9/16 [00:04<00:01,  4.80it/s]\n",
            " 62% 10/16 [00:04<00:01,  5.22it/s]\n",
            " 69% 11/16 [00:04<00:00,  5.56it/s]\n",
            " 75% 12/16 [00:04<00:00,  5.81it/s]\n",
            " 81% 13/16 [00:04<00:00,  6.03it/s]\n",
            " 88% 14/16 [00:05<00:00,  6.15it/s]\n",
            " 94% 15/16 [00:05<00:00,  6.25it/s]\n",
            "100% 16/16 [00:05<00:00,  2.95it/s]\n",
            "Total progress: 100% 16/16 [00:06<00:00,  2.47it/s]\n"
          ]
        }
      ],
      "source": [
        "!pip install -q https://github.com/camenduru/stable-diffusion-webui-colab/releases/download/0.0.15/xformers-0.0.15.dev0+189828c.d20221207-cp38-cp38-linux_x86_64.whl\n",
        "\n",
        "!git clone https://github.com/camenduru/stable-diffusion-webui\n",
        "!git clone https://github.com/deforum-art/deforum-for-automatic1111-webui /content/stable-diffusion-webui/extensions/deforum-for-automatic1111-webui\n",
        "!git clone https://github.com/yfszzx/stable-diffusion-webui-images-browser /content/stable-diffusion-webui/extensions/stable-diffusion-webui-images-browser\n",
        "!git clone https://github.com/camenduru/stable-diffusion-webui-huggingface /content/stable-diffusion-webui/extensions/stable-diffusion-webui-huggingface\n",
        "%cd /content/stable-diffusion-webui\n",
        "\n",
        "!wget https://huggingface.co/hakurei/waifu-diffusion-v1-3/resolve/main/wd-v1-3-float32.ckpt -O /content/stable-diffusion-webui/models/Stable-diffusion/wd-v1-3-float32.ckpt\n",
        "!wget https://huggingface.co/hakurei/waifu-diffusion-v1-4/resolve/main/vae/kl-f8-anime2.ckpt -O /content/stable-diffusion-webui/models/Stable-diffusion/wd-v1-3-float32.vae.pt\n",
        "!wget https://huggingface.co/CompVis/stable-diffusion-v-1-4-original/resolve/main/sd-v1-4.ckpt -O /content/stable-diffusion-webui/models/Stable-diffusion/sd-v1-4.ckpt\n",
        "\n",
        "!python launch.py --share --force-enable-xformers"
      ]
    }
  ]
}